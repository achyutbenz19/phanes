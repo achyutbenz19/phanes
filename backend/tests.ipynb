{
 "cells": [
  {
   "cell_type": "code",
   "execution_count": 6,
   "metadata": {},
   "outputs": [],
   "source": [
    "import google.generativeai as genai\n",
    "import ast\n",
    "import os\n",
    "import json\n",
    "import PIL.Image\n",
    "from browser import BrowserAutomation\n",
    "from selenium.webdriver.common.by import By\n",
    "from constants import  *\n",
    "from dotenv import load_dotenv\n",
    "\n",
    "load_dotenv()\n",
    "\n",
    "GEMINI_API_KEY = os.environ.get(\"GOOGLE_GENERATIVE_AI_API_KEY\")\n",
    "\n",
    "url = \"https://www.amazon.com/\"\n",
    "file = \"website.html\"\n",
    "prompt = \"I want to see the latest deals\""
   ]
  },
  {
   "cell_type": "code",
   "execution_count": 7,
   "metadata": {},
   "outputs": [],
   "source": [
    "def generate_content_with_cycling_keys(prompt, system_prompt, image=None):\n",
    "    api_key = GEMINI_API_KEY\n",
    "\n",
    "    genai.configure(api_key=api_key)\n",
    "    model = genai.GenerativeModel(\n",
    "        \"gemini-1.5-pro-latest\",\n",
    "        generation_config=genai.GenerationConfig(\n",
    "            max_output_tokens=8000,\n",
    "            temperature=0,\n",
    "        ),\n",
    "        system_instruction=system_prompt,\n",
    "    )\n",
    "\n",
    "    if image is None:\n",
    "        response = model.generate_content(prompt, request_options={\"timeout\": 1000})\n",
    "    else:\n",
    "        response = model.generate_content(\n",
    "            [prompt, image], request_options={\"timeout\": 1000}\n",
    "        )\n",
    "    return response.text"
   ]
  },
  {
   "cell_type": "code",
   "execution_count": 14,
   "metadata": {},
   "outputs": [
    {
     "ename": "TypeError",
     "evalue": "BrowserAutomation.take_screenshot() takes 1 positional argument but 2 were given",
     "output_type": "error",
     "traceback": [
      "\u001b[0;31m---------------------------------------------------------------------------\u001b[0m",
      "\u001b[0;31mTypeError\u001b[0m                                 Traceback (most recent call last)",
      "Cell \u001b[0;32mIn[14], line 6\u001b[0m\n\u001b[1;32m      2\u001b[0m browser\u001b[38;5;241m.\u001b[39mopen_browser()\n\u001b[1;32m      4\u001b[0m html_string \u001b[38;5;241m=\u001b[39m browser\u001b[38;5;241m.\u001b[39mscrape()\n\u001b[0;32m----> 6\u001b[0m screenshot \u001b[38;5;241m=\u001b[39m \u001b[43mbrowser\u001b[49m\u001b[38;5;241;43m.\u001b[39;49m\u001b[43mtake_screenshot\u001b[49m\u001b[43m(\u001b[49m\u001b[38;5;124;43m\"\u001b[39;49m\u001b[38;5;124;43mwebsite.png\u001b[39;49m\u001b[38;5;124;43m\"\u001b[39;49m\u001b[43m)\u001b[49m\n\u001b[1;32m      7\u001b[0m img \u001b[38;5;241m=\u001b[39m PIL\u001b[38;5;241m.\u001b[39mImage\u001b[38;5;241m.\u001b[39mopen(\u001b[38;5;124m'\u001b[39m\u001b[38;5;124mwebsite.png\u001b[39m\u001b[38;5;124m'\u001b[39m)\n\u001b[1;32m      8\u001b[0m url \u001b[38;5;241m=\u001b[39m browser\u001b[38;5;241m.\u001b[39mcurrent_url\n",
      "\u001b[0;31mTypeError\u001b[0m: BrowserAutomation.take_screenshot() takes 1 positional argument but 2 were given"
     ]
    }
   ],
   "source": [
    "browser = BrowserAutomation()\n",
    "browser.open_browser()\n",
    "\n",
    "html_string = browser.scrape()\n",
    "\n",
    "screenshot = browser.take_screenshot(\"website.png\")\n",
    "img = PIL.Image.open('website.png')\n",
    "url = browser.current_url\n",
    "prompt = \"I would like to order a pizza for delivery.\"\n",
    "\n",
    "user_prompt = f\"\"\"\n",
    "current_url: {url}\n",
    "current_page: {html_string}\n",
    "current_screenshot is attached\n",
    "Output selectors for relevant elements (divs, inputs, and images) that are relevant to the user's request.\n",
    "\n",
    "user: {prompt}\n",
    "\"\"\"\n",
    "    \n",
    "response = generate_content_with_cycling_keys(user_prompt, system_prompt_interpret, img)\n",
    "if \"```json\" in response:\n",
    "    response = response.split(\"```json\")[1].split(\"```\")[0]\n",
    "obj = json.loads(response)\n",
    "obj"
   ]
  },
  {
   "cell_type": "code",
   "execution_count": null,
   "metadata": {},
   "outputs": [],
   "source": []
  }
 ],
 "metadata": {
  "kernelspec": {
   "display_name": "env",
   "language": "python",
   "name": "python3"
  },
  "language_info": {
   "codemirror_mode": {
    "name": "ipython",
    "version": 3
   },
   "file_extension": ".py",
   "mimetype": "text/x-python",
   "name": "python",
   "nbconvert_exporter": "python",
   "pygments_lexer": "ipython3",
   "version": "3.10.11"
  }
 },
 "nbformat": 4,
 "nbformat_minor": 2
}
