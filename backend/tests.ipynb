{
 "cells": [
  {
   "cell_type": "code",
   "execution_count": 1,
   "metadata": {},
   "outputs": [
    {
     "name": "stderr",
     "output_type": "stream",
     "text": [
      "/Users/achyutkrishnabyanjankar/Desktop/coding/phanes/backend/env/lib/python3.10/site-packages/tqdm/auto.py:21: TqdmWarning: IProgress not found. Please update jupyter and ipywidgets. See https://ipywidgets.readthedocs.io/en/stable/user_install.html\n",
      "  from .autonotebook import tqdm as notebook_tqdm\n"
     ]
    }
   ],
   "source": [
    "import google.generativeai as genai\n",
    "import ast\n",
    "import os\n",
    "import json\n",
    "import PIL.Image\n",
    "from browser import BrowserAutomation\n",
    "from selenium.webdriver.common.by import By\n",
    "from constants import  *\n",
    "from dotenv import load_dotenv\n",
    "load_dotenv()\n",
    "\n",
    "GEMINI_API_KEY = os.environ.get(\"GOOGLE_GENERATIVE_AI_API_KEY\")"
   ]
  },
  {
   "cell_type": "code",
   "execution_count": 2,
   "metadata": {},
   "outputs": [],
   "source": [
    "def generate_content_with_cycling_keys(prompt, system_prompt, image=None):\n",
    "    api_key = GEMINI_API_KEY\n",
    "\n",
    "    genai.configure(api_key=api_key)\n",
    "    model = genai.GenerativeModel(\n",
    "        \"gemini-1.5-pro-latest\",\n",
    "        generation_config=genai.GenerationConfig(\n",
    "            max_output_tokens=8000,\n",
    "            temperature=0,\n",
    "        ),\n",
    "        system_instruction=system_prompt,\n",
    "    )\n",
    "\n",
    "    if image is None:\n",
    "        response = model.generate_content(prompt, request_options={\"timeout\": 1000})\n",
    "    else:\n",
    "        response = model.generate_content(\n",
    "            [prompt, image], request_options={\"timeout\": 1000}\n",
    "        )\n",
    "    return response.text"
   ]
  },
  {
   "cell_type": "code",
   "execution_count": 5,
   "metadata": {},
   "outputs": [],
   "source": [
    "url = \"https://vercel.com/geist/introduction\"\n",
    "prompt = \"I want to see the latest deals\"\n",
    "\n",
    "browser = BrowserAutomation()\n",
    "browser.open_browser(url)\n",
    "html_string = browser.scrape()\n",
    "screenshot = browser.take_screenshot(\"website.png\")\n",
    "\n",
    "img = PIL.Image.open('website.png')"
   ]
  }
 ],
 "metadata": {
  "kernelspec": {
   "display_name": "env",
   "language": "python",
   "name": "python3"
  },
  "language_info": {
   "codemirror_mode": {
    "name": "ipython",
    "version": 3
   },
   "file_extension": ".py",
   "mimetype": "text/x-python",
   "name": "python",
   "nbconvert_exporter": "python",
   "pygments_lexer": "ipython3",
   "version": "3.10.11"
  }
 },
 "nbformat": 4,
 "nbformat_minor": 2
}
