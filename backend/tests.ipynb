{
 "cells": [
  {
   "cell_type": "code",
   "execution_count": 6,
   "metadata": {},
   "outputs": [],
   "source": [
    "import google.generativeai as genai\n",
    "import ast\n",
    "import os\n",
    "import json\n",
    "import PIL.Image\n",
    "from browser import BrowserAutomation\n",
    "from selenium.webdriver.common.by import By\n",
    "from constants import  *\n",
    "from dotenv import load_dotenv\n",
    "load_dotenv()\n",
    "\n",
    "GEMINI_API_KEY = os.environ.get(\"GOOGLE_GENERATIVE_AI_API_KEY\")"
   ]
  },
  {
   "cell_type": "code",
   "execution_count": 7,
   "metadata": {},
   "outputs": [],
   "source": [
    "def generate_content(prompt, system_prompt, image=None):\n",
    "    api_key = GEMINI_API_KEY\n",
    "\n",
    "    genai.configure(api_key=api_key)\n",
    "    model = genai.GenerativeModel(\n",
    "        \"gemini-1.5-pro-latest\",\n",
    "        generation_config=genai.GenerationConfig(\n",
    "            max_output_tokens=8000,\n",
    "            temperature=0,\n",
    "        ),\n",
    "        system_instruction=system_prompt,\n",
    "    )\n",
    "\n",
    "    if image is None:\n",
    "        response = model.generate_content(prompt, request_options={\"timeout\": 1000})\n",
    "    else:\n",
    "        response = model.generate_content(\n",
    "            [prompt, image], request_options={\"timeout\": 1000}\n",
    "        )\n",
    "    return response.text"
   ]
  },
  {
   "cell_type": "code",
   "execution_count": 10,
   "metadata": {},
   "outputs": [],
   "source": [
    "url = \"https://vercel.com/geist/introduction\"\n",
    "prompt = \"I want to see the docs\"\n",
    "\n",
    "browser = BrowserAutomation()\n",
    "browser.open_browser(url)\n",
    "html_string = browser.scrape()\n",
    "screenshot = browser.take_screenshot(\"website.png\")\n",
    "\n",
    "img = PIL.Image.open('website.png')"
   ]
  },
  {
   "cell_type": "code",
   "execution_count": 11,
   "metadata": {},
   "outputs": [
    {
     "data": {
      "text/plain": [
       "{'type': 'selectors',\n",
       " 'selectors': [{'type': 'xpath',\n",
       "   'selector': \"//a[@href='/geist/introduction']\"},\n",
       "  {'type': 'xpath', 'selector': \"//a[@href='/geist/colors']\"},\n",
       "  {'type': 'xpath', 'selector': \"//a[@href='/geist/icons']\"},\n",
       "  {'type': 'xpath', 'selector': \"//a[@href='/geist/brands']\"},\n",
       "  {'type': 'xpath', 'selector': \"//a[@href='/geist/avatar']\"},\n",
       "  {'type': 'xpath', 'selector': \"//a[@href='/geist/badge']\"},\n",
       "  {'type': 'xpath', 'selector': \"//a[@href='/geist/button']\"},\n",
       "  {'type': 'xpath', 'selector': \"//a[@href='/geist/calendar']\"},\n",
       "  {'type': 'xpath', 'selector': \"//a[@href='/geist/checkbox']\"},\n",
       "  {'type': 'xpath', 'selector': \"//a[@href='/geist/choicebox']\"},\n",
       "  {'type': 'xpath', 'selector': \"//a[@href='/geist/code-block']\"},\n",
       "  {'type': 'xpath', 'selector': \"//a[@href='/geist/collapse']\"},\n",
       "  {'type': 'xpath', 'selector': \"//a[@href='/geist/combobox']\"},\n",
       "  {'type': 'xpath', 'selector': \"//a[@href='/geist/context-menu']\"},\n",
       "  {'type': 'xpath', 'selector': \"//a[@href='/geist/description']\"},\n",
       "  {'type': 'xpath', 'selector': \"//a[@href='/geist/drawer']\"},\n",
       "  {'type': 'xpath', 'selector': \"//a[@href='/geist/empty-state']\"},\n",
       "  {'type': 'xpath', 'selector': \"//a[@href='/geist/error']\"},\n",
       "  {'type': 'xpath', 'selector': \"//a[@href='/geist/feedback']\"},\n",
       "  {'type': 'xpath', 'selector': \"//a[@href='/geist/gauge']\"},\n",
       "  {'type': 'xpath', 'selector': \"//a[@href='/geist/grid']\"},\n",
       "  {'type': 'xpath', 'selector': \"//a[@href='/geist/input']\"},\n",
       "  {'type': 'xpath', 'selector': \"//a[@href='/geist/keyboard-input']\"},\n",
       "  {'type': 'xpath', 'selector': \"//a[@href='/geist/loading-dots']\"},\n",
       "  {'type': 'xpath', 'selector': \"//a[@href='/geist/menu']\"},\n",
       "  {'type': 'xpath', 'selector': \"//a[@href='/geist/modal']\"},\n",
       "  {'type': 'xpath', 'selector': \"//a[@href='/geist/note']\"},\n",
       "  {'type': 'xpath', 'selector': \"//a[@href='/geist/pagination']\"},\n",
       "  {'type': 'xpath', 'selector': \"//a[@href='/geist/progress']\"},\n",
       "  {'type': 'xpath', 'selector': \"//a[@href='/geist/radio']\"},\n",
       "  {'type': 'xpath', 'selector': \"//a[@href='/geist/scroller']\"},\n",
       "  {'type': 'xpath', 'selector': \"//a[@href='/geist/select']\"},\n",
       "  {'type': 'xpath', 'selector': \"//a[@href='/geist/show-more']\"},\n",
       "  {'type': 'xpath', 'selector': \"//a[@href='/geist/skeleton']\"},\n",
       "  {'type': 'xpath', 'selector': \"//a[@href='/geist/snippet']\"},\n",
       "  {'type': 'xpath', 'selector': \"//a[@href='/geist/spinner']\"},\n",
       "  {'type': 'xpath', 'selector': \"//a[@href='/geist/stack']\"},\n",
       "  {'type': 'xpath', 'selector': \"//a[@href='/geist/status-dot']\"},\n",
       "  {'type': 'xpath', 'selector': \"//a[@href='/geist/switch']\"},\n",
       "  {'type': 'xpath', 'selector': \"//a[@href='/geist/table']\"},\n",
       "  {'type': 'xpath', 'selector': \"//a[@href='/geist/tabs']\"},\n",
       "  {'type': 'xpath', 'selector': \"//a[@href='/geist/text']\"},\n",
       "  {'type': 'xpath', 'selector': \"//a[@href='/geist/textarea']\"},\n",
       "  {'type': 'xpath', 'selector': \"//a[@href='/geist/theme-switcher']\"},\n",
       "  {'type': 'xpath', 'selector': \"//a[@href='/geist/toast']\"},\n",
       "  {'type': 'xpath', 'selector': \"//a[@href='/geist/toggle']\"},\n",
       "  {'type': 'xpath', 'selector': \"//a[@href='/geist/tooltip']\"},\n",
       "  {'type': 'xpath', 'selector': \"//a[@href='/geist/window']\"}]}"
      ]
     },
     "execution_count": 11,
     "metadata": {},
     "output_type": "execute_result"
    }
   ],
   "source": [
    "url = browser.get_url()\n",
    "\n",
    "user_prompt = f\"\"\"\n",
    "current_url: {url}\n",
    "current_page: {html_string}\n",
    "current_screenshot is attached\n",
    "Output selectors for relevant elements (divs, inputs, and images) that are relevant to the user's request.\n",
    "\n",
    "user: {prompt}\n",
    "\"\"\"\n",
    "\n",
    "response = generate_content(user_prompt, system_prompt_interpret, img)\n",
    "if \"```json\" in response:\n",
    "    response = response.split(\"```json\")[1].split(\"```\")[0]\n",
    "obj = json.loads(response)\n",
    "obj"
   ]
  },
  {
   "cell_type": "code",
   "execution_count": 15,
   "metadata": {},
   "outputs": [],
   "source": [
    "design = PIL.Image.open(\"website.png\")\n",
    "response = generate_content(\n",
    "    design_schema\n",
    "    + \"\\n\\n\"\n",
    "    + '\"Only output div, button, input, img, and select elements. Do not use Tailwind Classes\\nBase Url for images (if any): {url} \\n\\n',\n",
    "    system_prompt_generate,\n",
    ")"
   ]
  },
  {
   "cell_type": "code",
   "execution_count": 16,
   "metadata": {},
   "outputs": [
    {
     "name": "stdout",
     "output_type": "stream",
     "text": [
      "```html\n",
      "<div class='container mx-auto p-4'>\n",
      "    <input class=\"border rounded-lg px-3 py-2 border-gray-300 focus:outline-none focus:ring focus:ring-indigo-500 focus:border-indigo-500\" style=\"background-color: #FFF; color: #A5A5A5;\" placeholder='Search...' special-id='//*[@id=\"twotabsearchtextbox\"]'>\n",
      "    <button class=\"bg-purple-700 hover:bg-purple-800 text-white font-medium py-2 px-4 rounded-lg\" style=\"background-color: #9F03FE; color: #FFF\" special-id='//*[@id=\"nav-search-submit-button\"]'>\n",
      "        Submit\n",
      "    </button>\n",
      "</div>\n",
      "```\n"
     ]
    }
   ],
   "source": [
    "print(response)"
   ]
  }
 ],
 "metadata": {
  "kernelspec": {
   "display_name": "env",
   "language": "python",
   "name": "python3"
  },
  "language_info": {
   "codemirror_mode": {
    "name": "ipython",
    "version": 3
   },
   "file_extension": ".py",
   "mimetype": "text/x-python",
   "name": "python",
   "nbconvert_exporter": "python",
   "pygments_lexer": "ipython3",
   "version": "3.10.11"
  }
 },
 "nbformat": 4,
 "nbformat_minor": 2
}
